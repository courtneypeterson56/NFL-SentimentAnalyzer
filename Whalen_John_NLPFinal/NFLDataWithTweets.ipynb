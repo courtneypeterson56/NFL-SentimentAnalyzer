{
 "cells": [
  {
   "cell_type": "code",
   "execution_count": 1,
   "metadata": {},
   "outputs": [],
   "source": [
    "import pandas as pd\n",
    "tweet_data = pd.read_csv('nfl_tweets_hydrate.csv')\n",
    "tweet_ids = tweet_data['id']\n",
    "tweets = tweet_data['text']\n",
    "id_to_tweet = {}\n",
    "for i in range(len(tweets)):\n",
    "    id_to_tweet[tweet_ids[i]] = tweets[i]"
   ]
  },
  {
   "cell_type": "code",
   "execution_count": 15,
   "metadata": {},
   "outputs": [],
   "source": [
    "raw_data = pd.read_csv('tweets.nfl.2012.postgame.csv', header = None)\n",
    "ids = raw_data[0]\n",
    "team = raw_data[2]\n",
    "opponent = raw_data[3]\n",
    "team_score = raw_data[6]\n",
    "opp_score = raw_data[7]\n",
    "tweet_list = []\n",
    "outcome_list = []\n",
    "for i in range(len(ids)):\n",
    "    try:\n",
    "        tweet = id_to_tweet[ids[i]]\n",
    "        if team_score[i] > opp_score[i]:\n",
    "            outcome = 1\n",
    "        else:\n",
    "            outcome = 0\n",
    "        tweet_list.append(tweet)\n",
    "        outcome_list.append(outcome)\n",
    "    except KeyError:\n",
    "        pass"
   ]
  },
  {
   "cell_type": "code",
   "execution_count": 18,
   "metadata": {},
   "outputs": [],
   "source": [
    "our_data = pd.DataFrame({'Tweet':tweet_list,'Outcome':outcome_list})\n",
    "our_data.to_csv('ThankGod.csv',index = None, header = ['Tweet','Outcome'])"
   ]
  },
  {
   "cell_type": "code",
   "execution_count": null,
   "metadata": {},
   "outputs": [],
   "source": []
  }
 ],
 "metadata": {
  "kernelspec": {
   "display_name": "Python 3",
   "language": "python",
   "name": "python3"
  },
  "language_info": {
   "codemirror_mode": {
    "name": "ipython",
    "version": 3
   },
   "file_extension": ".py",
   "mimetype": "text/x-python",
   "name": "python",
   "nbconvert_exporter": "python",
   "pygments_lexer": "ipython3",
   "version": "3.7.3"
  }
 },
 "nbformat": 4,
 "nbformat_minor": 2
}
